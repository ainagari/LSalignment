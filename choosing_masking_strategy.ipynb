{
 "cells": [
  {
   "cell_type": "markdown",
   "id": "f03d6240",
   "metadata": {},
   "source": [
    "# Running side-evaluation\n",
    "\n",
    "This notebook contains the necessary code to run the experiment described in Appendix A of the paper, where we choose the masking strategy to use in subsequent experiments.\n"
   ]
  },
  {
   "cell_type": "code",
   "execution_count": 1,
   "id": "781128f9",
   "metadata": {},
   "outputs": [],
   "source": [
    "import seaborn as sns\n",
    "sns.set_style(\"whitegrid\")\n",
    "import os\n",
    "import json\n",
    "from operator import itemgetter\n",
    "import numpy as np\n",
    "from matplotlib import pyplot as plt\n",
    "import pandas as pd\n",
    "import pickle\n",
    "from utils import load_representations, load_similarities\n",
    "\n",
    "mask_types = ['no-mask','one-mask','multi-mask']"
   ]
  },
  {
   "cell_type": "code",
   "execution_count": 2,
   "id": "fd9def07",
   "metadata": {},
   "outputs": [],
   "source": [
    "all_reps = load_representations(\"bert_representations\")\n",
    "all_data = load_similarities(\"bert_representations\")"
   ]
  },
  {
   "cell_type": "code",
   "execution_count": 3,
   "id": "31751b21",
   "metadata": {},
   "outputs": [],
   "source": [
    "\n",
    "def evaluate_masking_strategies(all_data, cluster_type=\"all\"):\n",
    "    '''cluster_type can be \"all\", \"word\" or \"coref\"'''    \n",
    "    \n",
    "    skipped_convs = []    \n",
    "    accumulated_comparisons_outcome = dict()\n",
    "    for mask_type in mask_types:            \n",
    "        accumulated_comparisons_outcome[mask_type] = []\n",
    "    \n",
    "    words_included = 0\n",
    "    words_per_debate = []             \n",
    "\n",
    "    for debate_name in all_data:\n",
    "        debate_sims = all_data[debate_name]\n",
    "        words_this_debate = 0\n",
    "        # select the clusters to use: only those for which we could calculate similarities \n",
    "        selected_clusters = [cl for cl in debate_sims if cl['similarity']]\n",
    "        # if evaluating only a specific cluster type (coref or word), pick clusters of this type only\n",
    "        if cluster_type != \"all\":\n",
    "            selected_clusters = [cl for cl in selected_clusters if cl['type'] == cluster_type]\n",
    "        \n",
    "        if len(selected_clusters) == 0:\n",
    "            print(debate_name) \n",
    "            skipped_convs.append(debate_name)        \n",
    "        \n",
    "        # accumulate similarities\n",
    "        for mask_type in mask_types: \n",
    "            sims_by_class = {'DIFF-1':[], 'DIFF-2':[], 'SAME-for':[],'SAME-against':[]}\n",
    "            sim_by_class = dict()\n",
    "            for cl in selected_clusters:                \n",
    "                sim_by_class['BETWEEN-1'] = cl['similarity'][mask_type]['BETWEEN']['1']['similarity']\n",
    "                sim_by_class['BETWEEN-2'] = cl['similarity'][mask_type]['BETWEEN']['2']['similarity']\n",
    "                sim_by_class['WITHIN-for'] = cl['similarity'][mask_type]['WITHIN']['for']['similarity']\n",
    "                sim_by_class['WITHIN-against'] = cl['similarity'][mask_type]['WITHIN']['against']['similarity']    \n",
    "                \n",
    "                # How often do BETWEEN comparisons have a lower similarity than WITHIN comparisons?                \n",
    "                accumulated_comparisons_outcome[mask_type].append(int(sim_by_class['BETWEEN-1'] < sim_by_class['WITHIN-for']))\n",
    "                accumulated_comparisons_outcome[mask_type].append(int(sim_by_class['BETWEEN-1'] < sim_by_class['WITHIN-against']))\n",
    "                accumulated_comparisons_outcome[mask_type].append(int(sim_by_class['BETWEEN-2'] < sim_by_class['WITHIN-for']))\n",
    "                accumulated_comparisons_outcome[mask_type].append(int(sim_by_class['BETWEEN-2'] < sim_by_class['WITHIN-against']))          \n",
    "                \n",
    "                if mask_type == \"no-mask\": # mask_type is irrelevant here, we only want to collect this info once\n",
    "                    words_included +=1\n",
    "                    words_this_debate +=1\n",
    "        \n",
    "        \n",
    "        words_per_debate.append(words_this_debate)\n",
    "    \n",
    "    # Calculating accuracy\n",
    "    eval_metrics = dict()\n",
    "    eval_metrics_fordf = []\n",
    "    for mask_type in accumulated_comparisons_outcome:        \n",
    "        value = sum(accumulated_comparisons_outcome[mask_type])/len(accumulated_comparisons_outcome[mask_type])        \n",
    "        eval_metrics[mask_type] = value\n",
    "        eval_metrics_fordf.append({'mask_type':mask_type, 'value': value})\n",
    "\n",
    "    eval_metrics_df = pd.DataFrame(eval_metrics_fordf)\n",
    "    print(eval_metrics_df)\n",
    "\n",
    "    sns.barplot(data=eval_metrics_df, y=\"value\", x=\"mask_type\")   \n",
    "    \n",
    "    \n",
    "    print(\"skipped debates:\", skipped_convs)    \n",
    "    print(\"total number of words used:\", words_included)\n",
    "    print(\"avg number of words per debate:\",  np.average(words_per_debate))\n",
    "    \n",
    "    print(\"\\n** TYPE OF CLUSTER: \", cluster_type, \" **\")\n",
    "    \n",
    "    return eval_metrics, eval_metrics_df"
   ]
  },
  {
   "cell_type": "code",
   "execution_count": 4,
   "id": "f61319be",
   "metadata": {},
   "outputs": [
    {
     "name": "stdout",
     "output_type": "stream",
     "text": [
      "    mask_type     value\n",
      "0     no-mask  0.702266\n",
      "1    one-mask  0.689325\n",
      "2  multi-mask  0.688922\n",
      "skipped debates: []\n",
      "total number of words used: 4965\n",
      "avg number of words per debate: 45.97222222222222\n",
      "\n",
      "** TYPE OF CLUSTER:  word  **\n"
     ]
    },
    {
     "data": {
      "image/png": "[encoded data removed]",
      "text/plain": [
       "<Figure size 432x288 with 1 Axes>"
      ]
     },
     "metadata": {},
     "output_type": "display_data"
    }
   ],
   "source": [
    "_, _ = evaluate_masking_strategies(all_data, cluster_type=\"word\")"
   ]
  },
  {
   "cell_type": "code",
   "execution_count": 5,
   "id": "280987a6",
   "metadata": {},
   "outputs": [
    {
     "name": "stdout",
     "output_type": "stream",
     "text": [
      "    mask_type     value\n",
      "0     no-mask  0.748811\n",
      "1    one-mask  0.708680\n",
      "2  multi-mask  0.714328\n",
      "skipped debates: []\n",
      "total number of words used: 841\n",
      "avg number of words per debate: 7.787037037037037\n",
      "\n",
      "** TYPE OF CLUSTER:  coref  **\n"
     ]
    },
    {
     "data": {
      "image/png": "[encoded data removed]",
      "text/plain": [
       "<Figure size 432x288 with 1 Axes>"
      ]
     },
     "metadata": {},
     "output_type": "display_data"
    }
   ],
   "source": [
    "_, _ = evaluate_masking_strategies(all_data, cluster_type=\"coref\")"
   ]
  }
 ],
 "metadata": {
  "kernelspec": {
   "display_name": "Python 3 (ipykernel)",
   "language": "python",
   "name": "python3"
  },
  "language_info": {
   "codemirror_mode": {
    "name": "ipython",
    "version": 3
   },
   "file_extension": ".py",
   "mimetype": "text/x-python",
   "name": "python",
   "nbconvert_exporter": "python",
   "pygments_lexer": "ipython3",
   "version": "3.9.7"
  }
 },
 "nbformat": 4,
 "nbformat_minor": 5
}
